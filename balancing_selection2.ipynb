{
 "cells": [
  {
   "cell_type": "code",
   "execution_count": 1,
   "id": "passive-break",
   "metadata": {},
   "outputs": [],
   "source": [
    "from msms2haplo import *"
   ]
  },
  {
   "cell_type": "code",
   "execution_count": 2,
   "id": "demographic-aviation",
   "metadata": {},
   "outputs": [],
   "source": [
    "import seaborn as sns\n",
    "import matplotlib.pyplot as plt\n",
    "%matplotlib inline"
   ]
  },
  {
   "cell_type": "code",
   "execution_count": 3,
   "id": "funded-vintage",
   "metadata": {},
   "outputs": [],
   "source": [
    "import os\n",
    "import copy\n",
    "import time\n",
    "import numpy as np\n",
    "import pandas as pd\n",
    "import torch.nn.functional as F\n",
    "from pathlib import Path\n",
    "\n",
    "from tqdm import tqdm\n",
    "from __future__ import print_function, division\n",
    "import torch\n",
    "import torch.nn as nn\n",
    "import torch.optim as optim\n",
    "from torch.optim import lr_scheduler\n",
    "from torch.utils.data import Dataset, DataLoader\n",
    "\n",
    "import torchvision\n",
    "from torchvision import models\n",
    "import matplotlib.pyplot as plt"
   ]
  },
  {
   "cell_type": "code",
   "execution_count": 4,
   "id": "celtic-optimum",
   "metadata": {},
   "outputs": [],
   "source": [
    "import matplotlib.pyplot as plt\n",
    "from sklearn.metrics import confusion_matrix, ConfusionMatrixDisplay\n",
    "\n",
    "import warnings\n",
    "warnings.filterwarnings(\"ignore\")"
   ]
  },
  {
   "cell_type": "code",
   "execution_count": null,
   "id": "weekly-honduras",
   "metadata": {},
   "outputs": [],
   "source": []
  },
  {
   "cell_type": "code",
   "execution_count": 5,
   "id": "facial-rider",
   "metadata": {},
   "outputs": [],
   "source": [
    "# Seed\n",
    "\n",
    "import random\n",
    "seed = 123\n",
    "torch.manual_seed(seed)\n",
    "torch.cuda.manual_seed(seed)\n",
    "torch.cuda.manual_seed_all(seed)\n",
    "np.random.seed(seed)\n",
    "random.seed(seed)\n",
    "torch.backends.cudnn.benchmark = False\n",
    "torch.backends.cudnn.deterministic = True"
   ]
  },
  {
   "cell_type": "code",
   "execution_count": null,
   "id": "corporate-ticket",
   "metadata": {},
   "outputs": [],
   "source": []
  },
  {
   "cell_type": "code",
   "execution_count": null,
   "id": "demanding-music",
   "metadata": {},
   "outputs": [],
   "source": []
  },
  {
   "cell_type": "code",
   "execution_count": null,
   "id": "institutional-jumping",
   "metadata": {},
   "outputs": [],
   "source": []
  },
  {
   "cell_type": "code",
   "execution_count": 6,
   "id": "challenging-white",
   "metadata": {},
   "outputs": [],
   "source": [
    "def myresize(chroms):\n",
    "    chroms = torch.Tensor(chroms)\n",
    "    if chroms.shape[1] >= 40:\n",
    "        chroms = chroms[:,:40]\n",
    "    else:\n",
    "        snp_dim = chroms.shape[1]\n",
    "        addzeros = 40 - snp_dim -1\n",
    "        chroms = F.pad(chroms, (1, addzeros), \"constant\", 0)\n",
    "    return chroms"
   ]
  },
  {
   "cell_type": "code",
   "execution_count": null,
   "id": "cubic-flashing",
   "metadata": {},
   "outputs": [],
   "source": []
  },
  {
   "cell_type": "code",
   "execution_count": 7,
   "id": "unnecessary-freight",
   "metadata": {},
   "outputs": [],
   "source": [
    "class BalancingSelectionDataset(Dataset):\n",
    "    \"\"\"BalancingSelectionDataset dataset.\"\"\"\n",
    "\n",
    "    def __init__(self, X, y):\n",
    "        self.X = X\n",
    "        self.y = y\n",
    "\n",
    "    def __len__(self):\n",
    "        return self.X.shape[0]\n",
    "\n",
    "    def __getitem__(self, idx):\n",
    "        return self.X[idx], self.y[idx]\n",
    "    "
   ]
  },
  {
   "cell_type": "code",
   "execution_count": 8,
   "id": "catholic-neighborhood",
   "metadata": {},
   "outputs": [],
   "source": [
    "class BalancingSelection2Dataset(Dataset):\n",
    "    \"\"\"BalancingSelectionDataset dataset.\"\"\"\n",
    "\n",
    "    def __init__(self, Xa, Xr, ya, yr):\n",
    "        self.Xa = Xa\n",
    "        self.ya = ya\n",
    "        self.Xr = Xr\n",
    "        self.yr = yr\n",
    "\n",
    "    def __len__(self):\n",
    "        return self.Xa.shape[0]\n",
    "\n",
    "    def __getitem__(self, idx):\n",
    "        return self.Xa[idx], self.Xr[idx], self.ya[idx], self.yr[idx]\n",
    "    "
   ]
  },
  {
   "cell_type": "code",
   "execution_count": null,
   "id": "fifty-involvement",
   "metadata": {},
   "outputs": [],
   "source": []
  },
  {
   "cell_type": "code",
   "execution_count": 9,
   "id": "alternative-administrator",
   "metadata": {},
   "outputs": [],
   "source": [
    "def get_paths(directories):\n",
    "    all_files = []\n",
    "    for d in directories:\n",
    "        path = Path(d)\n",
    "        files = os.listdir(path)\n",
    "        files = [path/file for file in files]\n",
    "        all_files.append(files)\n",
    "    return all_files\n",
    "\n",
    "def ancient_files_to_X(files):\n",
    "\n",
    "    Xs = []\n",
    "    for i in range(len(files[0])):\n",
    "\n",
    "        file_time0, file_time1, file_time2, file_time3 = files[0][i], files[1][i], files[2][i], files[3][i]\n",
    "        files_timepoints = [file_time0, file_time1, file_time2, file_time3]\n",
    "\n",
    "        matrices_timepoints = []\n",
    "        for file in files_timepoints:\n",
    "\n",
    "            chroms, positions = read_msms(filename=file, NCHROMS=10)\n",
    "            chroms = sort_min_diff(chroms)\n",
    "            matrices_timepoints.append(torch.Tensor(myresize(chroms)))\n",
    "\n",
    "        Xs.append(torch.vstack(matrices_timepoints))\n",
    "\n",
    "\n",
    "    X = torch.stack(Xs)\n",
    "    X = X.unsqueeze(1)\n",
    "    \n",
    "    return X"
   ]
  },
  {
   "cell_type": "code",
   "execution_count": 10,
   "id": "local-correlation",
   "metadata": {},
   "outputs": [],
   "source": [
    "directories =  [\"neutral/1\", \"neutral/2\", \"neutral/3\", \"neutral/4\", \"neutral/5\"]\n",
    "files_neutral = get_paths(directories)\n",
    "\n",
    "directories =  [\"dominance0025/1\", \"dominance0025/2\", \"dominance0025/3\", \"dominance0025/4\", \"dominance0025/5\"]\n",
    "files_dominance0025 = get_paths(directories)\n",
    "\n",
    "directories =  [\"dominance05/1\", \"dominance05/2\", \"dominance05/3\", \"dominance05/4\", \"dominance05/5\"]\n",
    "files_dominance05 = get_paths(directories)"
   ]
  },
  {
   "cell_type": "code",
   "execution_count": 11,
   "id": "molecular-transport",
   "metadata": {},
   "outputs": [],
   "source": [
    "num_samples = 1000\n",
    "\n",
    "Xa_neutral = ancient_files_to_X(files_neutral)\n",
    "ya_neutral = torch.Tensor([0]*num_samples).long()\n",
    "\n",
    "Xa_dominance0025 = ancient_files_to_X(files_dominance0025)\n",
    "ya_dominance0025 = torch.Tensor([1]*num_samples).long()\n",
    "\n",
    "\n",
    "Xa_dominance05 = ancient_files_to_X(files_dominance05)\n",
    "ya_dominance05 = torch.Tensor([2]*num_samples).long()"
   ]
  },
  {
   "cell_type": "code",
   "execution_count": 12,
   "id": "integral-february",
   "metadata": {},
   "outputs": [],
   "source": [
    "Xa = torch.cat([Xa_neutral, Xa_dominance05, Xa_dominance0025], axis=0)\n",
    "ya = torch.cat([ya_neutral, ya_dominance05, ya_dominance0025], axis=0)"
   ]
  },
  {
   "cell_type": "code",
   "execution_count": null,
   "id": "gothic-confusion",
   "metadata": {},
   "outputs": [],
   "source": []
  },
  {
   "cell_type": "code",
   "execution_count": 13,
   "id": "valuable-petroleum",
   "metadata": {},
   "outputs": [],
   "source": [
    "def recent_files_to_X(files):\n",
    "\n",
    "    Xs = []\n",
    "    for i in range(len(files[4])):\n",
    "\n",
    "        file_time = files[4][i]\n",
    "        files_timepoints = [file_time]\n",
    "\n",
    "        matrices_timepoints = []\n",
    "        for file in files_timepoints:\n",
    "            chroms, positions = read_msms(filename=file, NCHROMS=40)\n",
    "            chroms = sort_min_diff(chroms)\n",
    "            matrices_timepoints.append(torch.Tensor(myresize(chroms)))\n",
    "       \n",
    "\n",
    "        Xs.append(torch.vstack(matrices_timepoints))\n",
    "\n",
    "    X = torch.stack(Xs)\n",
    "    X = X.unsqueeze(1)\n",
    "    \n",
    "    return X"
   ]
  },
  {
   "cell_type": "code",
   "execution_count": 14,
   "id": "interpreted-seminar",
   "metadata": {},
   "outputs": [],
   "source": [
    "num_samples = 1000\n",
    "\n",
    "Xr_neutral = recent_files_to_X(files_neutral)\n",
    "yr_neutral = torch.Tensor([0]*num_samples).long()\n",
    "\n",
    "Xr_dominance05 = recent_files_to_X(files_dominance05)\n",
    "yr_dominance05 = torch.Tensor([2]*num_samples).long()\n",
    "\n",
    "Xr_dominance0025 = recent_files_to_X(files_dominance0025)\n",
    "yr_dominance0025 = torch.Tensor([1]*num_samples).long()\n",
    "\n",
    "Xr = torch.cat([Xr_neutral, Xr_dominance05, Xr_dominance0025], axis=0)\n",
    "yr = torch.cat([yr_neutral, yr_dominance05, yr_dominance0025], axis=0)"
   ]
  },
  {
   "cell_type": "code",
   "execution_count": null,
   "id": "reserved-niger",
   "metadata": {},
   "outputs": [],
   "source": []
  },
  {
   "cell_type": "code",
   "execution_count": 15,
   "id": "instructional-runner",
   "metadata": {},
   "outputs": [],
   "source": [
    "random_idx = np.random.choice(range(0,3000), 3000)"
   ]
  },
  {
   "cell_type": "code",
   "execution_count": null,
   "id": "conditional-charge",
   "metadata": {},
   "outputs": [],
   "source": []
  },
  {
   "cell_type": "code",
   "execution_count": 16,
   "id": "cosmetic-schedule",
   "metadata": {},
   "outputs": [],
   "source": [
    "def get_dataloader(Xa, Xr, ya, yr):\n",
    "    \n",
    "    #split = 250\n",
    "    split = 1000\n",
    "    bs_val_dataset = BalancingSelection2Dataset(Xa[random_idx[0:split]], Xr[random_idx[0:split]], ya[random_idx[0:split]], yr[random_idx[0:split]])\n",
    "    \n",
    "    bs_train_dataset = BalancingSelection2Dataset(Xa[random_idx[split:]], Xr[random_idx[split:]], ya[random_idx[split:]], yr[random_idx[split:]])\n",
    "    \n",
    "    dataset_sizes = {}\n",
    "    dataset_sizes[\"train\"] = len(bs_train_dataset)\n",
    "    dataset_sizes[\"val\"] = len(bs_val_dataset)\n",
    "    train_dl = torch.utils.data.DataLoader(bs_train_dataset, batch_size=16, shuffle=True, num_workers=4)\n",
    "    val_dl = torch.utils.data.DataLoader(bs_val_dataset, batch_size=16, shuffle=True, num_workers=4)\n",
    "    dataloaders = {\"train\":train_dl, \"val\":val_dl}\n",
    "    return dataloaders, dataset_sizes"
   ]
  },
  {
   "cell_type": "code",
   "execution_count": null,
   "id": "cooperative-disposal",
   "metadata": {},
   "outputs": [],
   "source": []
  },
  {
   "cell_type": "code",
   "execution_count": null,
   "id": "knowing-submission",
   "metadata": {},
   "outputs": [],
   "source": []
  },
  {
   "cell_type": "code",
   "execution_count": 17,
   "id": "aerial-backup",
   "metadata": {},
   "outputs": [],
   "source": [
    "def train_model(model, criterion, optimizer, scheduler, num_epochs=25):\n",
    "    since = time.time()\n",
    "\n",
    "    best_model_wts = copy.deepcopy(model.state_dict())\n",
    "    best_acc = 0.0\n",
    "\n",
    "    for epoch in range(num_epochs):\n",
    "        print(f'Epoch {epoch}/{num_epochs - 1}')\n",
    "        print('-' * 10)\n",
    "\n",
    "        # Each epoch has a training and validation phase\n",
    "        for phase in ['train', 'val']:\n",
    "            if phase == 'train':\n",
    "                model.train()  # Set model to training mode\n",
    "            else:\n",
    "                model.eval()   # Set model to evaluate mode\n",
    "\n",
    "            running_loss = 0.0\n",
    "            running_corrects = 0\n",
    "\n",
    "            # Iterate over data.\n",
    "            for inputs, labels in dataloaders[phase]:\n",
    "                inputs = inputs.to(device)\n",
    "                labels = labels.to(device)\n",
    "\n",
    "                # zero the parameter gradients\n",
    "                optimizer.zero_grad()\n",
    "\n",
    "                # forward\n",
    "                # track history if only in train\n",
    "                with torch.set_grad_enabled(phase == 'train'):\n",
    "                    outputs = model(inputs)\n",
    "                    _, preds = torch.max(outputs, 1)\n",
    "                    loss = criterion(outputs, labels)\n",
    "\n",
    "                    # backward + optimize only if in training phase\n",
    "                    if phase == 'train':\n",
    "                        loss.backward()\n",
    "                        optimizer.step()\n",
    "\n",
    "                # statistics\n",
    "                running_loss += loss.item() * inputs.size(0)\n",
    "                running_corrects += torch.sum(preds == labels.data)\n",
    "            if phase == 'train':\n",
    "                scheduler.step()\n",
    "\n",
    "            epoch_loss = running_loss / dataset_sizes[phase]\n",
    "            epoch_acc = running_corrects.double() / dataset_sizes[phase]\n",
    "\n",
    "            print(f'{phase} Loss: {epoch_loss:.4f} Acc: {epoch_acc:.4f}')\n",
    "\n",
    "            # deep copy the model\n",
    "            if phase == 'val' and epoch_acc > best_acc:\n",
    "                best_acc = epoch_acc\n",
    "                best_model_wts = copy.deepcopy(model.state_dict())\n",
    "\n",
    "        print()\n",
    "\n",
    "    time_elapsed = time.time() - since\n",
    "    print(f'Training complete in {time_elapsed // 60:.0f}m {time_elapsed % 60:.0f}s')\n",
    "    print(f'Best val Acc: {best_acc:4f}')\n",
    "\n",
    "    # load best model weights\n",
    "    model.load_state_dict(best_model_wts)\n",
    "    return model"
   ]
  },
  {
   "cell_type": "code",
   "execution_count": 18,
   "id": "broad-chester",
   "metadata": {},
   "outputs": [],
   "source": [
    "def ensemble_train_model(model, criterion, optimizer, scheduler, num_epochs=25):\n",
    "    since = time.time()\n",
    "\n",
    "    best_model_wts = copy.deepcopy(model.state_dict())\n",
    "    best_acc = 0.0\n",
    "\n",
    "    for epoch in range(num_epochs):\n",
    "        print(f'Epoch {epoch}/{num_epochs - 1}')\n",
    "        print('-' * 10)\n",
    "\n",
    "        # Each epoch has a training and validation phase\n",
    "        for phase in ['train', 'val']:\n",
    "            if phase == 'train':\n",
    "                model.train()  # Set model to training mode\n",
    "            else:\n",
    "                model.eval()   # Set model to evaluate mode\n",
    "\n",
    "            running_loss = 0.0\n",
    "            running_corrects = 0\n",
    "\n",
    "            # Iterate over data.\n",
    "            for Xa, Xr, ya, yr in dataloaders[phase]:\n",
    "                \n",
    "                Xa = Xa.to(device)\n",
    "                Xr = Xr.to(device)\n",
    "                ya = ya.to(device)\n",
    "                yr = yr.to(device)\n",
    "                \n",
    "                #assert ya == yr\n",
    "\n",
    "                # zero the parameter gradients\n",
    "                optimizer.zero_grad()\n",
    "\n",
    "                # forward\n",
    "                # track history if only in train\n",
    "                with torch.set_grad_enabled(phase == 'train'):\n",
    "                    outputs = model(Xa, Xr)\n",
    "                    _, preds = torch.max(outputs, 1)\n",
    "                    loss = criterion(outputs, ya)\n",
    "\n",
    "                    # backward + optimize only if in training phase\n",
    "                    if phase == 'train':\n",
    "                        loss.backward()\n",
    "                        optimizer.step()\n",
    "\n",
    "                # statistics\n",
    "                running_loss += loss.item() * Xa.size(0)\n",
    "                running_corrects += torch.sum(preds == ya.data)\n",
    "            if phase == 'train':\n",
    "                scheduler.step()\n",
    "\n",
    "            epoch_loss = running_loss / dataset_sizes[phase]\n",
    "            epoch_acc = running_corrects.double() / dataset_sizes[phase]\n",
    "\n",
    "            print(f'{phase} Loss: {epoch_loss:.4f} Acc: {epoch_acc:.4f}')\n",
    "\n",
    "            # deep copy the model\n",
    "            if phase == 'val' and epoch_acc > best_acc:\n",
    "                best_acc = epoch_acc\n",
    "                best_model_wts = copy.deepcopy(model.state_dict())\n",
    "\n",
    "        print()\n",
    "\n",
    "    time_elapsed = time.time() - since\n",
    "    print(f'Training complete in {time_elapsed // 60:.0f}m {time_elapsed % 60:.0f}s')\n",
    "    print(f'Best val Acc: {best_acc:4f}')\n",
    "\n",
    "    # load best model weights\n",
    "    model.load_state_dict(best_model_wts)\n",
    "    return model"
   ]
  },
  {
   "cell_type": "code",
   "execution_count": null,
   "id": "happy-thousand",
   "metadata": {},
   "outputs": [],
   "source": []
  },
  {
   "cell_type": "code",
   "execution_count": 19,
   "id": "silent-employee",
   "metadata": {},
   "outputs": [],
   "source": [
    "def convnet():\n",
    "\n",
    "    model = models.resnet18(pretrained=False)    \n",
    "    model.conv1 = nn.Conv2d(1, 64, kernel_size=3, stride=1, padding=1, bias=False)\n",
    "    num_ftrs = model.fc.in_features\n",
    "    model.fc = nn.Linear(num_ftrs, 3)\n",
    "    device = torch.device(\"cuda:0\" if torch.cuda.is_available() else \"cpu\")\n",
    "    model = model.to(device)\n",
    "    \n",
    "    return model"
   ]
  },
  {
   "cell_type": "code",
   "execution_count": 20,
   "id": "expected-fishing",
   "metadata": {},
   "outputs": [],
   "source": [
    "def count_parameters(model):\n",
    "    return sum(p.numel() for p in model.parameters() if p.requires_grad)"
   ]
  },
  {
   "cell_type": "code",
   "execution_count": null,
   "id": "spectacular-architecture",
   "metadata": {},
   "outputs": [],
   "source": []
  },
  {
   "cell_type": "code",
   "execution_count": 21,
   "id": "thick-hearts",
   "metadata": {},
   "outputs": [],
   "source": [
    "class TwoBranchEnsembleModel(nn.Module):\n",
    "    def __init__(self, ancient_model, recent_model, nb_classes=2):\n",
    "        super(TwoBranchEnsembleModel, self).__init__()\n",
    "        \n",
    "        self.ancient_model = ancient_model\n",
    "        self.recent_model = recent_model\n",
    "        \n",
    "        input_size = num_output_layers_single_model+num_output_layers_single_model\n",
    "        \n",
    "        self.l0 = nn.Linear(input_size, input_size//2)\n",
    "        self.l1 = nn.Linear(input_size//2, input_size//4)\n",
    "        self.l2 = nn.Linear(input_size//4, nb_classes)\n",
    "\n",
    "        \n",
    "        \n",
    "    def forward(self, ancient_data, recent_data):\n",
    "        x0 = self.ancient_model(ancient_data)  \n",
    "        x1 = self.recent_model(recent_data) \n",
    "        \n",
    "        x = torch.cat((x0, x1), dim=1)\n",
    "        \n",
    "        x = self.l0(F.relu(x))\n",
    "        x = self.l1(F.relu(x))\n",
    "        x = self.l2(F.relu(x))\n",
    "        \n",
    "        return x\n",
    "    \n",
    "def create_convnet(num_output_layers=2):\n",
    "    model = models.resnet18(pretrained=False)    \n",
    "    model.conv1 = nn.Conv2d(1, 64, kernel_size=3, stride=1, padding=1, bias=False)\n",
    "    model.fc = nn.Linear(model.fc.in_features, num_output_layers)\n",
    "    return model\n",
    "    \n"
   ]
  },
  {
   "cell_type": "code",
   "execution_count": null,
   "id": "prescribed-summer",
   "metadata": {},
   "outputs": [],
   "source": []
  },
  {
   "cell_type": "markdown",
   "id": "private-tunisia",
   "metadata": {},
   "source": [
    "# ancient and recent model"
   ]
  },
  {
   "cell_type": "code",
   "execution_count": 22,
   "id": "derived-musical",
   "metadata": {},
   "outputs": [
    {
     "name": "stderr",
     "output_type": "stream",
     "text": [
      "  0%|          | 0/10 [00:00<?, ?it/s]"
     ]
    },
    {
     "name": "stdout",
     "output_type": "stream",
     "text": [
      "Epoch 0/2\n",
      "----------\n",
      "train Loss: 0.9321 Acc: 0.5835\n",
      "val Loss: 0.6528 Acc: 0.6540\n",
      "\n",
      "Epoch 1/2\n",
      "----------\n",
      "train Loss: 0.5196 Acc: 0.7770\n",
      "val Loss: 0.4738 Acc: 0.8190\n",
      "\n",
      "Epoch 2/2\n",
      "----------\n",
      "train Loss: 0.2382 Acc: 0.9370\n",
      "val Loss: 0.3833 Acc: 0.8350\n",
      "\n",
      "Training complete in 0m 20s\n",
      "Best val Acc: 0.835000\n"
     ]
    },
    {
     "name": "stderr",
     "output_type": "stream",
     "text": [
      " 10%|█         | 1/10 [00:24<03:44, 24.92s/it]"
     ]
    },
    {
     "name": "stdout",
     "output_type": "stream",
     "text": [
      "Epoch 0/2\n",
      "----------\n",
      "train Loss: 0.9611 Acc: 0.5800\n",
      "val Loss: 0.7080 Acc: 0.7530\n",
      "\n",
      "Epoch 1/2\n",
      "----------\n",
      "train Loss: 0.4690 Acc: 0.8545\n",
      "val Loss: 0.4077 Acc: 0.8300\n",
      "\n",
      "Epoch 2/2\n",
      "----------\n",
      "train Loss: 0.0977 Acc: 0.9865\n",
      "val Loss: 0.3690 Acc: 0.8550\n",
      "\n",
      "Training complete in 0m 20s\n",
      "Best val Acc: 0.855000\n"
     ]
    },
    {
     "name": "stderr",
     "output_type": "stream",
     "text": [
      " 20%|██        | 2/10 [00:45<03:00, 22.57s/it]"
     ]
    },
    {
     "name": "stdout",
     "output_type": "stream",
     "text": [
      "Epoch 0/2\n",
      "----------\n",
      "train Loss: 0.9571 Acc: 0.5310\n",
      "val Loss: 0.6978 Acc: 0.6550\n",
      "\n",
      "Epoch 1/2\n",
      "----------\n",
      "train Loss: 0.5675 Acc: 0.7620\n",
      "val Loss: 0.4933 Acc: 0.8320\n",
      "\n",
      "Epoch 2/2\n",
      "----------\n",
      "train Loss: 0.2743 Acc: 0.9270\n",
      "val Loss: 0.3961 Acc: 0.8410\n",
      "\n",
      "Training complete in 0m 20s\n",
      "Best val Acc: 0.841000\n"
     ]
    },
    {
     "name": "stderr",
     "output_type": "stream",
     "text": [
      " 30%|███       | 3/10 [01:07<02:33, 21.98s/it]"
     ]
    },
    {
     "name": "stdout",
     "output_type": "stream",
     "text": [
      "Epoch 0/2\n",
      "----------\n",
      "train Loss: 0.9575 Acc: 0.6045\n",
      "val Loss: 0.6932 Acc: 0.7210\n",
      "\n",
      "Epoch 1/2\n",
      "----------\n",
      "train Loss: 0.5143 Acc: 0.8095\n",
      "val Loss: 0.4646 Acc: 0.8070\n",
      "\n",
      "Epoch 2/2\n",
      "----------\n",
      "train Loss: 0.2113 Acc: 0.9370\n",
      "val Loss: 0.4207 Acc: 0.8220\n",
      "\n",
      "Training complete in 0m 20s\n",
      "Best val Acc: 0.822000\n"
     ]
    },
    {
     "name": "stderr",
     "output_type": "stream",
     "text": [
      " 40%|████      | 4/10 [01:28<02:09, 21.63s/it]"
     ]
    },
    {
     "name": "stdout",
     "output_type": "stream",
     "text": [
      "Epoch 0/2\n",
      "----------\n",
      "train Loss: 0.9563 Acc: 0.6205\n",
      "val Loss: 0.6926 Acc: 0.7390\n",
      "\n",
      "Epoch 1/2\n",
      "----------\n",
      "train Loss: 0.4332 Acc: 0.8705\n",
      "val Loss: 0.4136 Acc: 0.8280\n",
      "\n",
      "Epoch 2/2\n",
      "----------\n",
      "train Loss: 0.1063 Acc: 0.9800\n",
      "val Loss: 0.3993 Acc: 0.8260\n",
      "\n",
      "Training complete in 0m 20s\n",
      "Best val Acc: 0.828000\n"
     ]
    },
    {
     "name": "stderr",
     "output_type": "stream",
     "text": [
      " 50%|█████     | 5/10 [01:49<01:47, 21.43s/it]"
     ]
    },
    {
     "name": "stdout",
     "output_type": "stream",
     "text": [
      "Epoch 0/2\n",
      "----------\n",
      "train Loss: 0.9753 Acc: 0.5115\n",
      "val Loss: 0.6747 Acc: 0.7430\n",
      "\n",
      "Epoch 1/2\n",
      "----------\n",
      "train Loss: 0.4807 Acc: 0.8455\n",
      "val Loss: 0.4360 Acc: 0.8170\n",
      "\n",
      "Epoch 2/2\n",
      "----------\n",
      "train Loss: 0.1308 Acc: 0.9730\n",
      "val Loss: 0.3680 Acc: 0.8430\n",
      "\n",
      "Training complete in 0m 20s\n",
      "Best val Acc: 0.843000\n"
     ]
    },
    {
     "name": "stderr",
     "output_type": "stream",
     "text": [
      " 60%|██████    | 6/10 [02:10<01:25, 21.44s/it]"
     ]
    },
    {
     "name": "stdout",
     "output_type": "stream",
     "text": [
      "Epoch 0/2\n",
      "----------\n",
      "train Loss: 0.9547 Acc: 0.5745\n",
      "val Loss: 0.7957 Acc: 0.5800\n",
      "\n",
      "Epoch 1/2\n",
      "----------\n",
      "train Loss: 0.6870 Acc: 0.6345\n",
      "val Loss: 0.6299 Acc: 0.6680\n",
      "\n",
      "Epoch 2/2\n",
      "----------\n",
      "train Loss: 0.4451 Acc: 0.8645\n",
      "val Loss: 0.4728 Acc: 0.8240\n",
      "\n",
      "Training complete in 0m 20s\n",
      "Best val Acc: 0.824000\n"
     ]
    },
    {
     "name": "stderr",
     "output_type": "stream",
     "text": [
      " 70%|███████   | 7/10 [02:32<01:04, 21.41s/it]"
     ]
    },
    {
     "name": "stdout",
     "output_type": "stream",
     "text": [
      "Epoch 0/2\n",
      "----------\n",
      "train Loss: 0.9526 Acc: 0.5285\n",
      "val Loss: 0.6700 Acc: 0.6750\n",
      "\n",
      "Epoch 1/2\n",
      "----------\n",
      "train Loss: 0.4053 Acc: 0.8875\n",
      "val Loss: 0.3975 Acc: 0.8340\n",
      "\n",
      "Epoch 2/2\n",
      "----------\n",
      "train Loss: 0.0843 Acc: 0.9855\n",
      "val Loss: 0.4047 Acc: 0.8280\n",
      "\n",
      "Training complete in 0m 20s\n",
      "Best val Acc: 0.834000\n"
     ]
    },
    {
     "name": "stderr",
     "output_type": "stream",
     "text": [
      " 80%|████████  | 8/10 [02:53<00:42, 21.46s/it]"
     ]
    },
    {
     "name": "stdout",
     "output_type": "stream",
     "text": [
      "Epoch 0/2\n",
      "----------\n",
      "train Loss: 1.0112 Acc: 0.5560\n",
      "val Loss: 0.7615 Acc: 0.7020\n",
      "\n",
      "Epoch 1/2\n",
      "----------\n",
      "train Loss: 0.4269 Acc: 0.9110\n",
      "val Loss: 0.4967 Acc: 0.7850\n",
      "\n",
      "Epoch 2/2\n",
      "----------\n",
      "train Loss: 0.1060 Acc: 0.9780\n",
      "val Loss: 0.4117 Acc: 0.8120\n",
      "\n",
      "Training complete in 0m 20s\n",
      "Best val Acc: 0.812000\n"
     ]
    },
    {
     "name": "stderr",
     "output_type": "stream",
     "text": [
      " 90%|█████████ | 9/10 [03:15<00:21, 21.55s/it]"
     ]
    },
    {
     "name": "stdout",
     "output_type": "stream",
     "text": [
      "Epoch 0/2\n",
      "----------\n",
      "train Loss: 0.9349 Acc: 0.5680\n",
      "val Loss: 0.7229 Acc: 0.6690\n",
      "\n",
      "Epoch 1/2\n",
      "----------\n",
      "train Loss: 0.5072 Acc: 0.8200\n",
      "val Loss: 0.4235 Acc: 0.8280\n",
      "\n",
      "Epoch 2/2\n",
      "----------\n",
      "train Loss: 0.1618 Acc: 0.9720\n",
      "val Loss: 0.3673 Acc: 0.8470\n",
      "\n",
      "Training complete in 0m 21s\n",
      "Best val Acc: 0.847000\n"
     ]
    },
    {
     "name": "stderr",
     "output_type": "stream",
     "text": [
      "100%|██████████| 10/10 [03:37<00:00, 21.77s/it]\n"
     ]
    }
   ],
   "source": [
    "\n",
    "confusion_matrices_both_recent_ancient = []\n",
    "\n",
    "for _ in tqdm(range(10)):\n",
    "\n",
    "    # get dataloaders\n",
    "    dataloaders, dataset_sizes = get_dataloader(Xa, Xr, ya, yr)\n",
    "    \n",
    "    # prepare ensemble model\n",
    "    num_output_layers_single_model = 64\n",
    "    ancient_model = create_convnet(num_output_layers=num_output_layers_single_model)\n",
    "    recent_model = create_convnet(num_output_layers=num_output_layers_single_model)\n",
    "    device = torch.device(\"cuda:0\" if torch.cuda.is_available() else \"cpu\")\n",
    "    model = TwoBranchEnsembleModel(ancient_model, recent_model, nb_classes=3).to(device)\n",
    "\n",
    "    # prepare training\n",
    "    criterion = nn.CrossEntropyLoss()\n",
    "    optimizer_ft = optim.Adam(model.parameters(), lr=0.00005)\n",
    "    exp_lr_scheduler = lr_scheduler.StepLR(optimizer_ft, step_size=7, gamma=0.1)\n",
    "\n",
    "    \n",
    "    # train for 3 epochs\n",
    "    model = ensemble_train_model(model, criterion, optimizer_ft, exp_lr_scheduler,num_epochs=3)\n",
    "\n",
    "\n",
    "    # validate\n",
    "    y_hat = []\n",
    "    y_true = []\n",
    "    with torch.no_grad():\n",
    "        for Xba, Xbr, yba, ybr in dataloaders[\"val\"]:\n",
    "            Xba = Xba.to(device)\n",
    "            Xbr = Xbr.to(device)\n",
    "            yba = yba.to(device)\n",
    "            ybr = ybr.to(device)\n",
    "            outputs = model(Xba, Xbr)\n",
    "            _, preds = torch.max(outputs, 1)\n",
    "            y_hat += preds.cpu().numpy().tolist()\n",
    "            y_true += yba.cpu().numpy().tolist()\n",
    "\n",
    "\n",
    "    # save confusion\n",
    "    cm = confusion_matrix(y_true, y_hat)\n",
    "    cm = cm / cm.sum(1)\n",
    "\n",
    "    confusion_matrices_both_recent_ancient.append(cm)"
   ]
  },
  {
   "cell_type": "code",
   "execution_count": null,
   "id": "floppy-young",
   "metadata": {},
   "outputs": [],
   "source": []
  },
  {
   "cell_type": "markdown",
   "id": "present-gossip",
   "metadata": {},
   "source": [
    "# ancient model training"
   ]
  },
  {
   "cell_type": "code",
   "execution_count": 23,
   "id": "superb-welding",
   "metadata": {},
   "outputs": [
    {
     "name": "stderr",
     "output_type": "stream",
     "text": [
      "  0%|          | 0/10 [00:00<?, ?it/s]"
     ]
    },
    {
     "name": "stdout",
     "output_type": "stream",
     "text": [
      "Epoch 0/2\n",
      "----------\n",
      "train Loss: 0.7918 Acc: 0.6340\n",
      "val Loss: 0.5988 Acc: 0.7320\n",
      "\n",
      "Epoch 1/2\n",
      "----------\n",
      "train Loss: 0.1724 Acc: 0.9585\n",
      "val Loss: 0.4981 Acc: 0.7950\n",
      "\n",
      "Epoch 2/2\n",
      "----------\n",
      "train Loss: 0.0347 Acc: 0.9980\n",
      "val Loss: 0.5128 Acc: 0.8040\n",
      "\n",
      "Training complete in 0m 11s\n",
      "Best val Acc: 0.804000\n"
     ]
    },
    {
     "name": "stderr",
     "output_type": "stream",
     "text": [
      " 10%|█         | 1/10 [00:11<01:47, 11.91s/it]"
     ]
    },
    {
     "name": "stdout",
     "output_type": "stream",
     "text": [
      "Epoch 0/2\n",
      "----------\n",
      "train Loss: 0.7949 Acc: 0.6245\n",
      "val Loss: 0.5727 Acc: 0.7690\n",
      "\n",
      "Epoch 1/2\n",
      "----------\n",
      "train Loss: 0.1874 Acc: 0.9485\n",
      "val Loss: 0.5749 Acc: 0.7550\n",
      "\n",
      "Epoch 2/2\n",
      "----------\n",
      "train Loss: 0.0352 Acc: 0.9965\n",
      "val Loss: 0.6136 Acc: 0.7770\n",
      "\n",
      "Training complete in 0m 11s\n",
      "Best val Acc: 0.777000\n"
     ]
    },
    {
     "name": "stderr",
     "output_type": "stream",
     "text": [
      " 20%|██        | 2/10 [00:24<01:37, 12.15s/it]"
     ]
    },
    {
     "name": "stdout",
     "output_type": "stream",
     "text": [
      "Epoch 0/2\n",
      "----------\n",
      "train Loss: 0.8074 Acc: 0.6095\n",
      "val Loss: 0.5444 Acc: 0.7820\n",
      "\n",
      "Epoch 1/2\n",
      "----------\n",
      "train Loss: 0.1910 Acc: 0.9555\n",
      "val Loss: 0.5423 Acc: 0.7610\n",
      "\n",
      "Epoch 2/2\n",
      "----------\n",
      "train Loss: 0.0381 Acc: 0.9975\n",
      "val Loss: 0.5497 Acc: 0.7890\n",
      "\n",
      "Training complete in 0m 11s\n",
      "Best val Acc: 0.789000\n"
     ]
    },
    {
     "name": "stderr",
     "output_type": "stream",
     "text": [
      " 30%|███       | 3/10 [00:36<01:25, 12.20s/it]"
     ]
    },
    {
     "name": "stdout",
     "output_type": "stream",
     "text": [
      "Epoch 0/2\n",
      "----------\n",
      "train Loss: 0.8206 Acc: 0.6070\n",
      "val Loss: 0.5282 Acc: 0.7780\n",
      "\n",
      "Epoch 1/2\n",
      "----------\n",
      "train Loss: 0.1839 Acc: 0.9530\n",
      "val Loss: 0.5009 Acc: 0.7680\n",
      "\n",
      "Epoch 2/2\n",
      "----------\n",
      "train Loss: 0.0361 Acc: 0.9965\n",
      "val Loss: 0.5290 Acc: 0.7740\n",
      "\n",
      "Training complete in 0m 11s\n",
      "Best val Acc: 0.778000\n"
     ]
    },
    {
     "name": "stderr",
     "output_type": "stream",
     "text": [
      " 40%|████      | 4/10 [00:48<01:12, 12.10s/it]"
     ]
    },
    {
     "name": "stdout",
     "output_type": "stream",
     "text": [
      "Epoch 0/2\n",
      "----------\n",
      "train Loss: 0.7968 Acc: 0.6280\n",
      "val Loss: 0.5324 Acc: 0.7930\n",
      "\n",
      "Epoch 1/2\n",
      "----------\n",
      "train Loss: 0.1808 Acc: 0.9610\n",
      "val Loss: 0.5039 Acc: 0.7910\n",
      "\n",
      "Epoch 2/2\n",
      "----------\n",
      "train Loss: 0.0363 Acc: 0.9970\n",
      "val Loss: 0.5897 Acc: 0.7830\n",
      "\n",
      "Training complete in 0m 11s\n",
      "Best val Acc: 0.793000\n"
     ]
    },
    {
     "name": "stderr",
     "output_type": "stream",
     "text": [
      " 50%|█████     | 5/10 [01:00<01:00, 12.04s/it]"
     ]
    },
    {
     "name": "stdout",
     "output_type": "stream",
     "text": [
      "Epoch 0/2\n",
      "----------\n",
      "train Loss: 0.8294 Acc: 0.6225\n",
      "val Loss: 0.5423 Acc: 0.7520\n",
      "\n",
      "Epoch 1/2\n",
      "----------\n",
      "train Loss: 0.1909 Acc: 0.9565\n",
      "val Loss: 0.5344 Acc: 0.7570\n",
      "\n",
      "Epoch 2/2\n",
      "----------\n",
      "train Loss: 0.0362 Acc: 0.9980\n",
      "val Loss: 0.5861 Acc: 0.7770\n",
      "\n",
      "Training complete in 0m 11s\n",
      "Best val Acc: 0.777000\n"
     ]
    },
    {
     "name": "stderr",
     "output_type": "stream",
     "text": [
      " 60%|██████    | 6/10 [01:12<00:48, 12.04s/it]"
     ]
    },
    {
     "name": "stdout",
     "output_type": "stream",
     "text": [
      "Epoch 0/2\n",
      "----------\n",
      "train Loss: 0.7863 Acc: 0.6395\n",
      "val Loss: 0.5347 Acc: 0.7660\n",
      "\n",
      "Epoch 1/2\n",
      "----------\n",
      "train Loss: 0.1797 Acc: 0.9605\n",
      "val Loss: 0.5055 Acc: 0.7670\n",
      "\n",
      "Epoch 2/2\n",
      "----------\n",
      "train Loss: 0.0298 Acc: 0.9980\n",
      "val Loss: 0.5405 Acc: 0.7880\n",
      "\n",
      "Training complete in 0m 11s\n",
      "Best val Acc: 0.788000\n"
     ]
    },
    {
     "name": "stderr",
     "output_type": "stream",
     "text": [
      " 70%|███████   | 7/10 [01:24<00:36, 12.02s/it]"
     ]
    },
    {
     "name": "stdout",
     "output_type": "stream",
     "text": [
      "Epoch 0/2\n",
      "----------\n",
      "train Loss: 0.7919 Acc: 0.6420\n",
      "val Loss: 0.5357 Acc: 0.7750\n",
      "\n",
      "Epoch 1/2\n",
      "----------\n",
      "train Loss: 0.1930 Acc: 0.9520\n",
      "val Loss: 0.5489 Acc: 0.7730\n",
      "\n",
      "Epoch 2/2\n",
      "----------\n",
      "train Loss: 0.0332 Acc: 0.9975\n",
      "val Loss: 0.5157 Acc: 0.7970\n",
      "\n",
      "Training complete in 0m 11s\n",
      "Best val Acc: 0.797000\n"
     ]
    },
    {
     "name": "stderr",
     "output_type": "stream",
     "text": [
      " 80%|████████  | 8/10 [01:36<00:24, 12.02s/it]"
     ]
    },
    {
     "name": "stdout",
     "output_type": "stream",
     "text": [
      "Epoch 0/2\n",
      "----------\n",
      "train Loss: 0.8092 Acc: 0.6205\n",
      "val Loss: 0.5629 Acc: 0.7650\n",
      "\n",
      "Epoch 1/2\n",
      "----------\n",
      "train Loss: 0.1748 Acc: 0.9610\n",
      "val Loss: 0.5010 Acc: 0.7810\n",
      "\n",
      "Epoch 2/2\n",
      "----------\n",
      "train Loss: 0.0304 Acc: 0.9985\n",
      "val Loss: 0.5239 Acc: 0.7890\n",
      "\n",
      "Training complete in 0m 11s\n",
      "Best val Acc: 0.789000\n"
     ]
    },
    {
     "name": "stderr",
     "output_type": "stream",
     "text": [
      " 90%|█████████ | 9/10 [01:48<00:12, 12.01s/it]"
     ]
    },
    {
     "name": "stdout",
     "output_type": "stream",
     "text": [
      "Epoch 0/2\n",
      "----------\n",
      "train Loss: 0.7899 Acc: 0.6325\n",
      "val Loss: 0.5729 Acc: 0.7750\n",
      "\n",
      "Epoch 1/2\n",
      "----------\n",
      "train Loss: 0.1890 Acc: 0.9570\n",
      "val Loss: 0.5381 Acc: 0.7610\n",
      "\n",
      "Epoch 2/2\n",
      "----------\n",
      "train Loss: 0.0381 Acc: 0.9980\n",
      "val Loss: 0.5745 Acc: 0.7770\n",
      "\n",
      "Training complete in 0m 11s\n",
      "Best val Acc: 0.777000\n"
     ]
    },
    {
     "name": "stderr",
     "output_type": "stream",
     "text": [
      "100%|██████████| 10/10 [02:00<00:00, 12.05s/it]\n"
     ]
    }
   ],
   "source": [
    "\n",
    "split = 1000\n",
    "bs_val_dataset = BalancingSelectionDataset(Xa[random_idx[0:split]], ya[random_idx[0:split]])\n",
    "bs_train_dataset = BalancingSelectionDataset(Xa[random_idx[split:]], ya[random_idx[split:]])\n",
    "dataset_sizes = {}\n",
    "dataset_sizes[\"train\"] = len(bs_train_dataset)\n",
    "dataset_sizes[\"val\"] = len(bs_val_dataset)\n",
    "train_dl = torch.utils.data.DataLoader(bs_train_dataset, batch_size=16, shuffle=True, num_workers=4)\n",
    "val_dl = torch.utils.data.DataLoader(bs_val_dataset, batch_size=16, shuffle=True, num_workers=4)\n",
    "dataloaders = {\"train\":train_dl, \"val\":val_dl}\n",
    "\n",
    "\n",
    "\n",
    "confusion_matrices_ancient = []\n",
    "\n",
    "for _ in tqdm(range(10)):\n",
    "\n",
    "    device = torch.device(\"cuda:0\" if torch.cuda.is_available() else \"cpu\")\n",
    "    model = convnet().to(device)\n",
    "    criterion = nn.CrossEntropyLoss()\n",
    "    optimizer_ft = optim.Adam(model.parameters(), lr=0.00005)\n",
    "    exp_lr_scheduler = lr_scheduler.StepLR(optimizer_ft, step_size=7, gamma=0.1)\n",
    "    model = train_model(model, criterion, optimizer_ft, exp_lr_scheduler,num_epochs=3)\n",
    "    \n",
    "    y_hat = []\n",
    "    y_true = []\n",
    "    with torch.no_grad():\n",
    "        for Xb, yb in dataloaders[\"val\"]:\n",
    "\n",
    "            Xb = Xb.to(device)\n",
    "            yb = yb.to(device)\n",
    "\n",
    "            outputs = model(Xb)\n",
    "            _, preds = torch.max(outputs, 1)\n",
    "\n",
    "            y_hat += preds.cpu().numpy().tolist()\n",
    "            y_true += yb.cpu().numpy().tolist()\n",
    "            \n",
    "            \n",
    "    cm = confusion_matrix(y_true, y_hat)\n",
    "    cm = cm / cm.sum(1)\n",
    "    confusion_matrices_ancient.append(cm)"
   ]
  },
  {
   "cell_type": "code",
   "execution_count": null,
   "id": "ceramic-relevance",
   "metadata": {},
   "outputs": [],
   "source": []
  },
  {
   "cell_type": "markdown",
   "id": "public-bachelor",
   "metadata": {},
   "source": [
    "# recent model"
   ]
  },
  {
   "cell_type": "code",
   "execution_count": 24,
   "id": "polar-handle",
   "metadata": {},
   "outputs": [],
   "source": [
    "split = 1000\n",
    "bs_val_dataset = BalancingSelectionDataset(Xr[random_idx[0:split]], yr[random_idx[0:split]])\n",
    "bs_train_dataset = BalancingSelectionDataset(Xr[random_idx[split:]], yr[random_idx[split:]])\n",
    "dataset_sizes = {}\n",
    "dataset_sizes[\"train\"] = len(bs_train_dataset)\n",
    "dataset_sizes[\"val\"] = len(bs_val_dataset)\n",
    "train_dl = torch.utils.data.DataLoader(bs_train_dataset, batch_size=16, shuffle=True, num_workers=4)\n",
    "val_dl = torch.utils.data.DataLoader(bs_val_dataset, batch_size=16, shuffle=True, num_workers=4)\n",
    "dataloaders = {\"train\":train_dl, \"val\":val_dl}"
   ]
  },
  {
   "cell_type": "code",
   "execution_count": 25,
   "id": "sweet-bradford",
   "metadata": {},
   "outputs": [
    {
     "name": "stderr",
     "output_type": "stream",
     "text": [
      "  0%|          | 0/10 [00:00<?, ?it/s]"
     ]
    },
    {
     "name": "stdout",
     "output_type": "stream",
     "text": [
      "Epoch 0/2\n",
      "----------\n",
      "train Loss: 0.7278 Acc: 0.6450\n",
      "val Loss: 0.4962 Acc: 0.7760\n",
      "\n",
      "Epoch 1/2\n",
      "----------\n",
      "train Loss: 0.2024 Acc: 0.9500\n",
      "val Loss: 0.4843 Acc: 0.8010\n",
      "\n",
      "Epoch 2/2\n",
      "----------\n",
      "train Loss: 0.0475 Acc: 0.9920\n",
      "val Loss: 0.5144 Acc: 0.8040\n",
      "\n",
      "Training complete in 0m 12s\n",
      "Best val Acc: 0.804000\n"
     ]
    },
    {
     "name": "stderr",
     "output_type": "stream",
     "text": [
      " 10%|█         | 1/10 [00:12<01:55, 12.83s/it]"
     ]
    },
    {
     "name": "stdout",
     "output_type": "stream",
     "text": [
      "Epoch 0/2\n",
      "----------\n",
      "train Loss: 0.7156 Acc: 0.6690\n",
      "val Loss: 0.5075 Acc: 0.7880\n",
      "\n",
      "Epoch 1/2\n",
      "----------\n",
      "train Loss: 0.1969 Acc: 0.9525\n",
      "val Loss: 0.4897 Acc: 0.7850\n",
      "\n",
      "Epoch 2/2\n",
      "----------\n",
      "train Loss: 0.0437 Acc: 0.9945\n",
      "val Loss: 0.5526 Acc: 0.7870\n",
      "\n",
      "Training complete in 0m 13s\n",
      "Best val Acc: 0.788000\n"
     ]
    },
    {
     "name": "stderr",
     "output_type": "stream",
     "text": [
      " 20%|██        | 2/10 [00:26<01:45, 13.21s/it]"
     ]
    },
    {
     "name": "stdout",
     "output_type": "stream",
     "text": [
      "Epoch 0/2\n",
      "----------\n",
      "train Loss: 0.7259 Acc: 0.6515\n",
      "val Loss: 0.5259 Acc: 0.7760\n",
      "\n",
      "Epoch 1/2\n",
      "----------\n",
      "train Loss: 0.2236 Acc: 0.9415\n",
      "val Loss: 0.4940 Acc: 0.7740\n",
      "\n",
      "Epoch 2/2\n",
      "----------\n",
      "train Loss: 0.0547 Acc: 0.9900\n",
      "val Loss: 0.5980 Acc: 0.7810\n",
      "\n",
      "Training complete in 0m 12s\n",
      "Best val Acc: 0.781000\n"
     ]
    },
    {
     "name": "stderr",
     "output_type": "stream",
     "text": [
      " 30%|███       | 3/10 [00:39<01:32, 13.16s/it]"
     ]
    },
    {
     "name": "stdout",
     "output_type": "stream",
     "text": [
      "Epoch 0/2\n",
      "----------\n",
      "train Loss: 0.7110 Acc: 0.6555\n",
      "val Loss: 0.5329 Acc: 0.7560\n",
      "\n",
      "Epoch 1/2\n",
      "----------\n",
      "train Loss: 0.2267 Acc: 0.9400\n",
      "val Loss: 0.4663 Acc: 0.7990\n",
      "\n",
      "Epoch 2/2\n",
      "----------\n",
      "train Loss: 0.0448 Acc: 0.9960\n",
      "val Loss: 0.5225 Acc: 0.7970\n",
      "\n",
      "Training complete in 0m 11s\n",
      "Best val Acc: 0.799000\n"
     ]
    },
    {
     "name": "stderr",
     "output_type": "stream",
     "text": [
      " 40%|████      | 4/10 [00:51<01:16, 12.74s/it]"
     ]
    },
    {
     "name": "stdout",
     "output_type": "stream",
     "text": [
      "Epoch 0/2\n",
      "----------\n",
      "train Loss: 0.7343 Acc: 0.6475\n",
      "val Loss: 0.5095 Acc: 0.7900\n",
      "\n",
      "Epoch 1/2\n",
      "----------\n",
      "train Loss: 0.2010 Acc: 0.9565\n",
      "val Loss: 0.4892 Acc: 0.7940\n",
      "\n",
      "Epoch 2/2\n",
      "----------\n",
      "train Loss: 0.0533 Acc: 0.9925\n",
      "val Loss: 0.5460 Acc: 0.7970\n",
      "\n",
      "Training complete in 0m 12s\n",
      "Best val Acc: 0.797000\n"
     ]
    },
    {
     "name": "stderr",
     "output_type": "stream",
     "text": [
      " 50%|█████     | 5/10 [01:04<01:03, 12.66s/it]"
     ]
    },
    {
     "name": "stdout",
     "output_type": "stream",
     "text": [
      "Epoch 0/2\n",
      "----------\n",
      "train Loss: 0.7308 Acc: 0.6550\n",
      "val Loss: 0.5274 Acc: 0.7730\n",
      "\n",
      "Epoch 1/2\n",
      "----------\n",
      "train Loss: 0.2151 Acc: 0.9410\n",
      "val Loss: 0.4716 Acc: 0.7930\n",
      "\n",
      "Epoch 2/2\n",
      "----------\n",
      "train Loss: 0.0427 Acc: 0.9920\n",
      "val Loss: 0.5009 Acc: 0.8020\n",
      "\n",
      "Training complete in 0m 11s\n",
      "Best val Acc: 0.802000\n"
     ]
    },
    {
     "name": "stderr",
     "output_type": "stream",
     "text": [
      " 60%|██████    | 6/10 [01:16<00:49, 12.46s/it]"
     ]
    },
    {
     "name": "stdout",
     "output_type": "stream",
     "text": [
      "Epoch 0/2\n",
      "----------\n",
      "train Loss: 0.7206 Acc: 0.6530\n",
      "val Loss: 0.5062 Acc: 0.7740\n",
      "\n",
      "Epoch 1/2\n",
      "----------\n",
      "train Loss: 0.2136 Acc: 0.9420\n",
      "val Loss: 0.4768 Acc: 0.7900\n",
      "\n",
      "Epoch 2/2\n",
      "----------\n",
      "train Loss: 0.0518 Acc: 0.9920\n",
      "val Loss: 0.4850 Acc: 0.7950\n",
      "\n",
      "Training complete in 0m 11s\n",
      "Best val Acc: 0.795000\n"
     ]
    },
    {
     "name": "stderr",
     "output_type": "stream",
     "text": [
      " 70%|███████   | 7/10 [01:28<00:37, 12.40s/it]"
     ]
    },
    {
     "name": "stdout",
     "output_type": "stream",
     "text": [
      "Epoch 0/2\n",
      "----------\n",
      "train Loss: 0.7321 Acc: 0.6385\n",
      "val Loss: 0.4979 Acc: 0.7670\n",
      "\n",
      "Epoch 1/2\n",
      "----------\n",
      "train Loss: 0.2086 Acc: 0.9450\n",
      "val Loss: 0.5186 Acc: 0.7940\n",
      "\n",
      "Epoch 2/2\n",
      "----------\n",
      "train Loss: 0.0570 Acc: 0.9920\n",
      "val Loss: 0.4791 Acc: 0.8060\n",
      "\n",
      "Training complete in 0m 11s\n",
      "Best val Acc: 0.806000\n"
     ]
    },
    {
     "name": "stderr",
     "output_type": "stream",
     "text": [
      " 80%|████████  | 8/10 [01:40<00:24, 12.29s/it]"
     ]
    },
    {
     "name": "stdout",
     "output_type": "stream",
     "text": [
      "Epoch 0/2\n",
      "----------\n",
      "train Loss: 0.7518 Acc: 0.6340\n",
      "val Loss: 0.5217 Acc: 0.7720\n",
      "\n",
      "Epoch 1/2\n",
      "----------\n",
      "train Loss: 0.2308 Acc: 0.9355\n",
      "val Loss: 0.4800 Acc: 0.7880\n",
      "\n",
      "Epoch 2/2\n",
      "----------\n",
      "train Loss: 0.0541 Acc: 0.9920\n",
      "val Loss: 0.5206 Acc: 0.7840\n",
      "\n",
      "Training complete in 0m 11s\n",
      "Best val Acc: 0.788000\n"
     ]
    },
    {
     "name": "stderr",
     "output_type": "stream",
     "text": [
      " 90%|█████████ | 9/10 [01:52<00:12, 12.23s/it]"
     ]
    },
    {
     "name": "stdout",
     "output_type": "stream",
     "text": [
      "Epoch 0/2\n",
      "----------\n",
      "train Loss: 0.7421 Acc: 0.6390\n",
      "val Loss: 0.4967 Acc: 0.7870\n",
      "\n",
      "Epoch 1/2\n",
      "----------\n",
      "train Loss: 0.2164 Acc: 0.9440\n",
      "val Loss: 0.4656 Acc: 0.7980\n",
      "\n",
      "Epoch 2/2\n",
      "----------\n",
      "train Loss: 0.0452 Acc: 0.9915\n",
      "val Loss: 0.5405 Acc: 0.8050\n",
      "\n",
      "Training complete in 0m 11s\n",
      "Best val Acc: 0.805000\n"
     ]
    },
    {
     "name": "stderr",
     "output_type": "stream",
     "text": [
      "100%|██████████| 10/10 [02:04<00:00, 12.47s/it]\n"
     ]
    }
   ],
   "source": [
    "confusion_matrices_recent = []\n",
    "\n",
    "for _ in tqdm(range(10)):\n",
    "\n",
    "    device = torch.device(\"cuda:0\" if torch.cuda.is_available() else \"cpu\")\n",
    "    model = convnet().to(device)\n",
    "    criterion = nn.CrossEntropyLoss()\n",
    "    optimizer_ft = optim.Adam(model.parameters(), lr=0.00005)\n",
    "    exp_lr_scheduler = lr_scheduler.StepLR(optimizer_ft, step_size=7, gamma=0.1)\n",
    "    model = train_model(model, criterion, optimizer_ft, exp_lr_scheduler,num_epochs=3)\n",
    "    \n",
    "    \n",
    "    y_hat = []\n",
    "    y_true = []\n",
    "    with torch.no_grad():\n",
    "        for Xb, yb in dataloaders[\"val\"]:\n",
    "            Xb = Xb.to(device)\n",
    "            yb = yb.to(device)\n",
    "            outputs = model(Xb)\n",
    "            _, preds = torch.max(outputs, 1)\n",
    "            y_hat += preds.cpu().numpy().tolist()\n",
    "            y_true += yb.cpu().numpy().tolist()\n",
    "            \n",
    "    cm = confusion_matrix(y_true, y_hat)\n",
    "    cm = cm / cm.sum(1)\n",
    "    confusion_matrices_recent.append(cm)"
   ]
  },
  {
   "cell_type": "code",
   "execution_count": null,
   "id": "dimensional-soviet",
   "metadata": {},
   "outputs": [],
   "source": []
  },
  {
   "cell_type": "code",
   "execution_count": null,
   "id": "royal-eating",
   "metadata": {},
   "outputs": [],
   "source": []
  },
  {
   "cell_type": "code",
   "execution_count": null,
   "id": "piano-teacher",
   "metadata": {},
   "outputs": [],
   "source": []
  },
  {
   "cell_type": "code",
   "execution_count": null,
   "id": "bearing-beast",
   "metadata": {},
   "outputs": [],
   "source": []
  },
  {
   "cell_type": "code",
   "execution_count": 40,
   "id": "nervous-auckland",
   "metadata": {},
   "outputs": [],
   "source": [
    "def plot_confusion_matrix(confusion_matrices, ax):\n",
    "\n",
    "    bootstrap_cm = np.array(confusion_matrices).mean(0)\n",
    "    bootstrap_stds = np.array(confusion_matrices).std(0)\n",
    "\n",
    "    # standard deviation labels\n",
    "    accuracies = [str(np.round(v, 2)) for v in bootstrap_cm.flatten().tolist()]\n",
    "    stds = [str(np.round(v, 2)) for v in bootstrap_stds.flatten().tolist()]\n",
    "    labels = [a  + \"±\\n\" + s for a, s in zip(accuracies, stds)]\n",
    "    labels = np.array(labels).reshape(3,3)\n",
    "    \n",
    "    sns.heatmap(bootstrap_cm, annot = labels, fmt = '', cmap=\"Blues\", ax=ax, xticklabels=[\"N\", \"D0.25\", \"D0.5\"], yticklabels=[\"N\", \"D0.25\", \"D0.5\"], linecolor='black', linewidths=.5)\n",
    "\n",
    "    ax.axhline(y=0, color='k',linewidth=5)\n",
    "    ax.axhline(y=3, color='k',linewidth=5)\n",
    "    ax.axvline(x=0, color='k',linewidth=5)\n",
    "    ax.axvline(x=3, color='k',linewidth=5)\n"
   ]
  },
  {
   "cell_type": "code",
   "execution_count": null,
   "id": "backed-increase",
   "metadata": {},
   "outputs": [],
   "source": []
  },
  {
   "cell_type": "markdown",
   "id": "lightweight-snapshot",
   "metadata": {},
   "source": [
    "torch.save(confusion_matrices_ancient, \"confusion_matrices_ancient.pth\")\n",
    "torch.save(confusion_matrices_recent, \"confusion_matrices_recent.pth\")\n",
    "torch.save(confusion_matrices_both_recent_ancient, \"confusion_matrices_both_recent_ancient.pth\")"
   ]
  },
  {
   "cell_type": "code",
   "execution_count": 7,
   "id": "logical-toolbox",
   "metadata": {},
   "outputs": [],
   "source": [
    "confusion_matrices_ancient = torch.load(\"confusion_matrices_ancient.pth\")\n",
    "confusion_matrices_recent = torch.load(\"confusion_matrices_recent.pth\")\n",
    "confusion_matrices_both_recent_ancient = torch.load(\"confusion_matrices_both_recent_ancient.pth\")"
   ]
  },
  {
   "cell_type": "code",
   "execution_count": null,
   "id": "optional-junior",
   "metadata": {},
   "outputs": [],
   "source": []
  },
  {
   "cell_type": "code",
   "execution_count": 42,
   "id": "electoral-worcester",
   "metadata": {},
   "outputs": [
    {
     "data": {
      "image/png": "[encoded data removed]",
      "text/plain": [
       "<Figure size 1800x504 with 6 Axes>"
      ]
     },
     "metadata": {},
     "output_type": "display_data"
    }
   ],
   "source": [
    "sns.set(style=\"white\", font_scale=1.75)\n",
    "\n",
    "fig, axs = plt.subplots(1,3 , sharex=True, sharey=True, figsize=(25, 7))\n",
    "\n",
    "plot_confusion_matrix(confusion_matrices_ancient, axs[0])\n",
    "plot_confusion_matrix(confusion_matrices_recent, axs[1])\n",
    "plot_confusion_matrix(confusion_matrices_both_recent_ancient, axs[2])\n",
    "\n",
    "axs[0].set_title(\"ancient\")\n",
    "axs[1].set_title(\"recent\")\n",
    "axs[2].set_title(\"ancient+recent\")\n",
    "\n",
    "plt.savefig(\"confusion_matrices_balancing_selection_with_std2_fix.png\", dpi=600)"
   ]
  },
  {
   "cell_type": "code",
   "execution_count": null,
   "id": "textile-signal",
   "metadata": {},
   "outputs": [],
   "source": []
  },
  {
   "cell_type": "code",
   "execution_count": null,
   "id": "religious-screen",
   "metadata": {},
   "outputs": [],
   "source": []
  }
 ],
 "metadata": {
  "kernelspec": {
   "display_name": "Python 3",
   "language": "python",
   "name": "python3"
  },
  "language_info": {
   "codemirror_mode": {
    "name": "ipython",
    "version": 3
   },
   "file_extension": ".py",
   "mimetype": "text/x-python",
   "name": "python",
   "nbconvert_exporter": "python",
   "pygments_lexer": "ipython3",
   "version": "3.8.5"
  }
 },
 "nbformat": 4,
 "nbformat_minor": 5
}
